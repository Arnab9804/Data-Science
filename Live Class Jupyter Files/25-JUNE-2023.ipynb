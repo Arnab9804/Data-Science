{
 "cells": [
  {
   "cell_type": "markdown",
   "id": "4b796796",
   "metadata": {},
   "source": [
    "# FUNCTION\n"
   ]
  },
  {
   "cell_type": "code",
   "execution_count": 1,
   "id": "9480dbc5",
   "metadata": {},
   "outputs": [
    {
     "data": {
      "text/plain": [
       "15"
      ]
     },
     "execution_count": 1,
     "metadata": {},
     "output_type": "execute_result"
    }
   ],
   "source": [
    "K=[20,15,98,46,54,75]\n",
    "min(K)"
   ]
  },
  {
   "cell_type": "markdown",
   "id": "8aac322b",
   "metadata": {},
   "source": [
    "USER DEFINED FUNCTIONS"
   ]
  },
  {
   "cell_type": "code",
   "execution_count": 2,
   "id": "428c6a23",
   "metadata": {},
   "outputs": [],
   "source": [
    "#stape 1..... functions defination\n",
    "def function1():\n",
    "    print ('inside function1')"
   ]
  },
  {
   "cell_type": "code",
   "execution_count": 3,
   "id": "84b50029",
   "metadata": {},
   "outputs": [
    {
     "name": "stdout",
     "output_type": "stream",
     "text": [
      "inside function1\n"
     ]
    }
   ],
   "source": [
    "#stape 2.....calling of functions\n",
    "function1()"
   ]
  },
  {
   "cell_type": "code",
   "execution_count": 5,
   "id": "2a2a0053",
   "metadata": {},
   "outputs": [
    {
     "name": "stdout",
     "output_type": "stream",
     "text": [
      "the addition= 30\n"
     ]
    }
   ],
   "source": [
    "def addfunc():\n",
    "    a=10\n",
    "    b=20\n",
    "    c=a+b\n",
    "    print ('the addition=', c)\n",
    "    \n",
    "\n",
    "addfunc()"
   ]
  },
  {
   "cell_type": "code",
   "execution_count": 6,
   "id": "ba98ea0b",
   "metadata": {},
   "outputs": [
    {
     "name": "stdout",
     "output_type": "stream",
     "text": [
      "The Substraction= 20\n"
     ]
    }
   ],
   "source": [
    "def subfunc():\n",
    "    a=30\n",
    "    b=10\n",
    "    c=a-b\n",
    "    print ('The Substraction=', c)\n",
    "    \n",
    "subfunc()"
   ]
  },
  {
   "cell_type": "code",
   "execution_count": 7,
   "id": "633625c2",
   "metadata": {},
   "outputs": [
    {
     "name": "stdout",
     "output_type": "stream",
     "text": [
      "Enter a number a15\n",
      "Enter a number b23\n",
      "The addition= 38\n"
     ]
    }
   ],
   "source": [
    "def addfunc():\n",
    "    a=int(input('Enter a number a'))\n",
    "    b= int(input('Enter a number b'))\n",
    "    c=a+b\n",
    "    print ('The addition=',c)\n",
    "    \n",
    "addfunc()\n",
    "    \n"
   ]
  },
  {
   "cell_type": "code",
   "execution_count": 8,
   "id": "e31b092d",
   "metadata": {},
   "outputs": [
    {
     "name": "stdout",
     "output_type": "stream",
     "text": [
      "Enter length15\n",
      "Enter breadth52\n",
      "The value of area= 780\n"
     ]
    }
   ],
   "source": [
    "def arearect():\n",
    "    length=int(input('Enter length'))\n",
    "    breadth=int(input('Enter breadth'))\n",
    "    area=length*breadth\n",
    "    print ('The value of area=',area)\n",
    "    \n",
    "arearect()"
   ]
  },
  {
   "cell_type": "code",
   "execution_count": 11,
   "id": "b91aa04f",
   "metadata": {},
   "outputs": [
    {
     "name": "stdout",
     "output_type": "stream",
     "text": [
      "Enter a markes23\n",
      "Average\n",
      "Enter a markes58\n",
      "Good\n",
      "Enter a markes45\n",
      "Average\n"
     ]
    }
   ],
   "source": [
    "def fun2():\n",
    "    for i in range(3):\n",
    "        marks = int(input('Enter a markes'))\n",
    "        if marks>50:\n",
    "            print ('Good')\n",
    "        else:\n",
    "             print('Average')\n",
    "        \n",
    "fun2()"
   ]
  },
  {
   "cell_type": "code",
   "execution_count": 2,
   "id": "d000707a",
   "metadata": {},
   "outputs": [
    {
     "name": "stdout",
     "output_type": "stream",
     "text": [
      "Enter a marks50\n",
      "Total= 50\n",
      "Average= 16.666666666666668\n",
      "Enter a marks65\n",
      "Total= 115\n",
      "Average= 38.333333333333336\n",
      "Enter a marks78\n",
      "Total= 193\n",
      "Average= 64.33333333333333\n"
     ]
    }
   ],
   "source": [
    "def fun3():\n",
    "    total=0\n",
    "    for i in range (3):\n",
    "        marks= int(input('Enter a marks'))\n",
    "        total=total+marks\n",
    "        print ('Total=', total)\n",
    "        print ('Average=',total/3)\n",
    "\n",
    "    \n",
    "    \n",
    "fun3()\n",
    "\n"
   ]
  },
  {
   "cell_type": "code",
   "execution_count": 4,
   "id": "871b4916",
   "metadata": {},
   "outputs": [
    {
     "name": "stdout",
     "output_type": "stream",
     "text": [
      "Enter a Marks54\n",
      "Total= 54\n",
      "Enter a Marks87\n",
      "Total= 141\n",
      "Enter a Marks95\n",
      "Total= 236\n",
      "Average= 78.66666666666667\n"
     ]
    }
   ],
   "source": [
    "def fun4():\n",
    "    total=0\n",
    "    for i in range(3):\n",
    "        marks=int(input('Enter a Marks'))\n",
    "        total = total+marks\n",
    "        print ('Total=', total)\n",
    "    print ('Average=', total/3)\n",
    "    \n",
    "    \n",
    "fun4()"
   ]
  },
  {
   "cell_type": "markdown",
   "id": "ab1043cc",
   "metadata": {},
   "source": [
    "PARAMATIC FUNCTIONS"
   ]
  },
  {
   "cell_type": "code",
   "execution_count": 16,
   "id": "de881db8",
   "metadata": {},
   "outputs": [
    {
     "name": "stdout",
     "output_type": "stream",
     "text": [
      "C Value= 15\n"
     ]
    }
   ],
   "source": [
    "def addfun (a,b):\n",
    "    c=a+b\n",
    "    print ('C Value=', c)\n",
    "    \n",
    "addfun (10,5)"
   ]
  },
  {
   "cell_type": "code",
   "execution_count": 18,
   "id": "f91df921",
   "metadata": {},
   "outputs": [
    {
     "name": "stdout",
     "output_type": "stream",
     "text": [
      "The Value of C= 150\n"
     ]
    }
   ],
   "source": [
    "def multiplyfun(a,b):\n",
    "    c=a*b\n",
    "    print ('The Value of C=', c)\n",
    "    \n",
    "multiplyfun(10,15)    "
   ]
  },
  {
   "cell_type": "code",
   "execution_count": 24,
   "id": "d3c07e2c",
   "metadata": {},
   "outputs": [
    {
     "name": "stdout",
     "output_type": "stream",
     "text": [
      "Enter a num for a43\n",
      "Enter a num for b3\n",
      "The Value of C= 14.33\n"
     ]
    }
   ],
   "source": [
    "def divisionfun(a,b):\n",
    "    c=a/b\n",
    "    print('The Value of C=', round(c,2))\n",
    "    \n",
    "a=int (input('Enter a num for a'))\n",
    "b=int(input('Enter a num for b'))\n",
    "divisionfun(a,b)\n"
   ]
  },
  {
   "cell_type": "code",
   "execution_count": 25,
   "id": "b2629b06",
   "metadata": {},
   "outputs": [
    {
     "name": "stdout",
     "output_type": "stream",
     "text": [
      "Enter a value for length46\n",
      "Enter a value for breadth45\n",
      "The value of Area= 2070\n"
     ]
    }
   ],
   "source": [
    "def arearect(length,breadth):\n",
    "    area=length*breadth\n",
    "    print (\"The value of Area=\", area)\n",
    "    \n",
    "length=int(input('Enter a value for length'))\n",
    "breadth=int(input('Enter a value for breadth'))\n",
    "\n",
    "arearect(length,breadth)"
   ]
  },
  {
   "cell_type": "code",
   "execution_count": 32,
   "id": "160530cb",
   "metadata": {},
   "outputs": [
    {
     "name": "stdout",
     "output_type": "stream",
     "text": [
      "34\n"
     ]
    }
   ],
   "source": [
    "def myfunction(*a):\n",
    "    print (sum (a))\n",
    "    \n",
    "myfunction(2,2,4,6,5,4,7,4)"
   ]
  },
  {
   "cell_type": "code",
   "execution_count": 33,
   "id": "75b7a2c3",
   "metadata": {},
   "outputs": [
    {
     "name": "stdout",
     "output_type": "stream",
     "text": [
      "The C value= 30\n"
     ]
    }
   ],
   "source": [
    "def addfun():\n",
    "    a=10\n",
    "    b=20\n",
    "    c=a+b\n",
    "    print ('The C value=',c)\n",
    "    \n",
    "addfun()    "
   ]
  },
  {
   "cell_type": "code",
   "execution_count": 37,
   "id": "02be58e0",
   "metadata": {},
   "outputs": [],
   "source": [
    "def addfun():\n",
    "    a=10\n",
    "    b=20\n",
    "    c=a+b\n",
    "    return c"
   ]
  },
  {
   "cell_type": "code",
   "execution_count": 39,
   "id": "b0bce384",
   "metadata": {},
   "outputs": [],
   "source": [
    "myvariable=addfun()"
   ]
  },
  {
   "cell_type": "code",
   "execution_count": 40,
   "id": "8f45858e",
   "metadata": {},
   "outputs": [
    {
     "data": {
      "text/plain": [
       "30"
      ]
     },
     "execution_count": 40,
     "metadata": {},
     "output_type": "execute_result"
    }
   ],
   "source": [
    "myvariable"
   ]
  },
  {
   "cell_type": "code",
   "execution_count": 1,
   "id": "39a86b97",
   "metadata": {},
   "outputs": [
    {
     "name": "stdout",
     "output_type": "stream",
     "text": [
      "17 -1\n"
     ]
    }
   ],
   "source": [
    "def add_sub(x,y):\n",
    "    c=x+y\n",
    "    d=x-y\n",
    "    return c,d\n",
    "\n",
    "var1,var2=add_sub(8,9)\n",
    "print (var1,var2)"
   ]
  },
  {
   "cell_type": "code",
   "execution_count": 41,
   "id": "232b7359",
   "metadata": {},
   "outputs": [
    {
     "name": "stdout",
     "output_type": "stream",
     "text": [
      "900\n"
     ]
    }
   ],
   "source": [
    "def testf(myvariable):\n",
    "    print (myvariable**2)\n",
    "    \n",
    "testf(myvariable)   "
   ]
  },
  {
   "cell_type": "code",
   "execution_count": 8,
   "id": "3c2faf2f",
   "metadata": {},
   "outputs": [],
   "source": [
    "def squarefun(m):\n",
    "    s=m**2\n",
    "    return s\n",
    "    \n",
    "squarefun(8)\n",
    "\n",
    "vars=squarefun(8)\n",
    "    \n"
   ]
  },
  {
   "cell_type": "code",
   "execution_count": 6,
   "id": "56a6f3e9",
   "metadata": {},
   "outputs": [
    {
     "data": {
      "text/plain": [
       "64"
      ]
     },
     "execution_count": 6,
     "metadata": {},
     "output_type": "execute_result"
    }
   ],
   "source": [
    "vars"
   ]
  },
  {
   "cell_type": "code",
   "execution_count": null,
   "id": "c17b4430",
   "metadata": {},
   "outputs": [],
   "source": []
  }
 ],
 "metadata": {
  "kernelspec": {
   "display_name": "Python 3 (ipykernel)",
   "language": "python",
   "name": "python3"
  },
  "language_info": {
   "codemirror_mode": {
    "name": "ipython",
    "version": 3
   },
   "file_extension": ".py",
   "mimetype": "text/x-python",
   "name": "python",
   "nbconvert_exporter": "python",
   "pygments_lexer": "ipython3",
   "version": "3.10.9"
  }
 },
 "nbformat": 4,
 "nbformat_minor": 5
}
