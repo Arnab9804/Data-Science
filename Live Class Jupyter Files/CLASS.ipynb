{
 "cells": [
  {
   "cell_type": "markdown",
   "id": "10390118",
   "metadata": {},
   "source": [
    "STRING FUNCTION"
   ]
  },
  {
   "cell_type": "code",
   "execution_count": 1,
   "id": "f3d9b647",
   "metadata": {},
   "outputs": [],
   "source": [
    "a= 'python'"
   ]
  },
  {
   "cell_type": "code",
   "execution_count": 2,
   "id": "247713c7",
   "metadata": {},
   "outputs": [
    {
     "data": {
      "text/plain": [
       "'PYTHON'"
      ]
     },
     "execution_count": 2,
     "metadata": {},
     "output_type": "execute_result"
    }
   ],
   "source": [
    "a.upper()"
   ]
  },
  {
   "cell_type": "code",
   "execution_count": 3,
   "id": "7089aaf2",
   "metadata": {},
   "outputs": [],
   "source": [
    "b='FACEBOOK'"
   ]
  },
  {
   "cell_type": "code",
   "execution_count": 6,
   "id": "488a9744",
   "metadata": {},
   "outputs": [
    {
     "data": {
      "text/plain": [
       "'facebook'"
      ]
     },
     "execution_count": 6,
     "metadata": {},
     "output_type": "execute_result"
    }
   ],
   "source": [
    "b.lower()"
   ]
  },
  {
   "cell_type": "code",
   "execution_count": 7,
   "id": "5beacef4",
   "metadata": {},
   "outputs": [],
   "source": [
    "c='Facebook'"
   ]
  },
  {
   "cell_type": "code",
   "execution_count": 8,
   "id": "39375a58",
   "metadata": {},
   "outputs": [
    {
     "data": {
      "text/plain": [
       "'fACEBOOK'"
      ]
     },
     "execution_count": 8,
     "metadata": {},
     "output_type": "execute_result"
    }
   ],
   "source": [
    "c.swapcase()"
   ]
  },
  {
   "cell_type": "code",
   "execution_count": 9,
   "id": "f7a6daa4",
   "metadata": {},
   "outputs": [],
   "source": [
    "e='space station gave prealert messege of anything on earth'"
   ]
  },
  {
   "cell_type": "code",
   "execution_count": 12,
   "id": "dcd461c9",
   "metadata": {},
   "outputs": [
    {
     "data": {
      "text/plain": [
       "['space',\n",
       " 'station',\n",
       " 'gave',\n",
       " 'prealert',\n",
       " 'messege',\n",
       " 'of',\n",
       " 'anything',\n",
       " 'on',\n",
       " 'earth']"
      ]
     },
     "execution_count": 12,
     "metadata": {},
     "output_type": "execute_result"
    }
   ],
   "source": [
    "e.split()"
   ]
  },
  {
   "cell_type": "code",
   "execution_count": 18,
   "id": "59d52394",
   "metadata": {},
   "outputs": [],
   "source": [
    "world1= 'COMPUTER'"
   ]
  },
  {
   "cell_type": "code",
   "execution_count": 19,
   "id": "a84ff247",
   "metadata": {},
   "outputs": [
    {
     "data": {
      "text/plain": [
       "True"
      ]
     },
     "execution_count": 19,
     "metadata": {},
     "output_type": "execute_result"
    }
   ],
   "source": [
    "world1.isupper()"
   ]
  },
  {
   "cell_type": "code",
   "execution_count": null,
   "id": "3d63600c",
   "metadata": {},
   "outputs": [],
   "source": []
  },
  {
   "cell_type": "code",
   "execution_count": 20,
   "id": "a5e0f4eb",
   "metadata": {},
   "outputs": [],
   "source": [
    "world2= 'earth is revolving the sun'"
   ]
  },
  {
   "cell_type": "code",
   "execution_count": 21,
   "id": "316df232",
   "metadata": {},
   "outputs": [
    {
     "data": {
      "text/plain": [
       "'Earth is revolving the sun'"
      ]
     },
     "execution_count": 21,
     "metadata": {},
     "output_type": "execute_result"
    }
   ],
   "source": [
    "world2.capitalize()"
   ]
  },
  {
   "cell_type": "code",
   "execution_count": 22,
   "id": "5a70964a",
   "metadata": {},
   "outputs": [
    {
     "data": {
      "text/plain": [
       "'Earth Is Revolving The Sun'"
      ]
     },
     "execution_count": 22,
     "metadata": {},
     "output_type": "execute_result"
    }
   ],
   "source": [
    "world2.title()"
   ]
  },
  {
   "cell_type": "code",
   "execution_count": 24,
   "id": "3c8c3616",
   "metadata": {},
   "outputs": [
    {
     "data": {
      "text/plain": [
       "True"
      ]
     },
     "execution_count": 24,
     "metadata": {},
     "output_type": "execute_result"
    }
   ],
   "source": [
    "world2.startswith('earth')"
   ]
  },
  {
   "cell_type": "code",
   "execution_count": 28,
   "id": "102380be",
   "metadata": {},
   "outputs": [
    {
     "data": {
      "text/plain": [
       "19"
      ]
     },
     "execution_count": 28,
     "metadata": {},
     "output_type": "execute_result"
    }
   ],
   "source": [
    "world2.find('the')"
   ]
  },
  {
   "cell_type": "code",
   "execution_count": 34,
   "id": "394e62d6",
   "metadata": {},
   "outputs": [],
   "source": [
    "y='python is propuler programing language'"
   ]
  },
  {
   "cell_type": "code",
   "execution_count": 36,
   "id": "518304dc",
   "metadata": {},
   "outputs": [
    {
     "data": {
      "text/plain": [
       "3"
      ]
     },
     "execution_count": 36,
     "metadata": {},
     "output_type": "execute_result"
    }
   ],
   "source": [
    "y.count('a')"
   ]
  },
  {
   "cell_type": "code",
   "execution_count": 37,
   "id": "e1f5c282",
   "metadata": {},
   "outputs": [],
   "source": [
    "z='Elon Mask launched AI car Tesla'"
   ]
  },
  {
   "cell_type": "code",
   "execution_count": 38,
   "id": "b43d1a77",
   "metadata": {},
   "outputs": [
    {
     "data": {
      "text/plain": [
       "'Belon Mask launched AI car Tesla'"
      ]
     },
     "execution_count": 38,
     "metadata": {},
     "output_type": "execute_result"
    }
   ],
   "source": [
    "z.replace('Elon', 'Belon')"
   ]
  },
  {
   "cell_type": "code",
   "execution_count": 39,
   "id": "e9ebdf40",
   "metadata": {},
   "outputs": [],
   "source": [
    "text=['NASA', 'is','building','hotel','project','in','Mars']"
   ]
  },
  {
   "cell_type": "code",
   "execution_count": 43,
   "id": "e8eda4a6",
   "metadata": {},
   "outputs": [
    {
     "data": {
      "text/plain": [
       "'NASA is building hotel project in Mars'"
      ]
     },
     "execution_count": 43,
     "metadata": {},
     "output_type": "execute_result"
    }
   ],
   "source": [
    "' '.join(text)"
   ]
  },
  {
   "cell_type": "code",
   "execution_count": 44,
   "id": "3034337c",
   "metadata": {},
   "outputs": [
    {
     "name": "stdout",
     "output_type": "stream",
     "text": [
      "The two string are same\n"
     ]
    }
   ],
   "source": [
    "string1='Tesla'\n",
    "string2='tesla'\n",
    "if string1.casefold()==string2.casefold():\n",
    "    print ('The two string are same')\n",
    "else:\n",
    "    print('The two Strong are not same')"
   ]
  },
  {
   "cell_type": "code",
   "execution_count": 47,
   "id": "be7e56fa",
   "metadata": {},
   "outputs": [
    {
     "name": "stdout",
     "output_type": "stream",
     "text": [
      "hello, Arnab!\n"
     ]
    }
   ],
   "source": [
    "name='Arnab'\n",
    "print ('hello, %s!' % name)"
   ]
  },
  {
   "cell_type": "code",
   "execution_count": 49,
   "id": "247881b8",
   "metadata": {},
   "outputs": [
    {
     "name": "stdout",
     "output_type": "stream",
     "text": [
      "Arnab is 29 years old taking salary 40000.546000 \n",
      "Salary = 40000.55 \n"
     ]
    }
   ],
   "source": [
    "name = 'Arnab'\n",
    "age= 29\n",
    "Salary= 40000.546\n",
    "print ('%s is %d years old taking salary %f '% (name,age,Salary))\n",
    "print ('Salary = %0.2f ' % Salary)"
   ]
  },
  {
   "cell_type": "code",
   "execution_count": 55,
   "id": "ec3d6089",
   "metadata": {},
   "outputs": [
    {
     "name": "stdout",
     "output_type": "stream",
     "text": [
      "Delhi is the capital of India has 5000418 propulation having average salary of 35441.13 \n"
     ]
    }
   ],
   "source": [
    "country='India'\n",
    "City= 'Delhi'\n",
    "Propulation= 5000418\n",
    "Salary = 35441.12547\n",
    "print ('%s is the capital of %s has %d propulation having average salary of %0.2f ' % (City,country,Propulation,Salary))"
   ]
  },
  {
   "cell_type": "code",
   "execution_count": 56,
   "id": "1a65b903",
   "metadata": {},
   "outputs": [
    {
     "name": "stdout",
     "output_type": "stream",
     "text": [
      "I like to eat Mango , Apple, grapes \n"
     ]
    }
   ],
   "source": [
    "fruit1 ='Mango'\n",
    "fruit2='Apple'\n",
    "fruit3='grapes'\n",
    "print ('I like to eat %s , %s, %s ' % (fruit1,fruit2,fruit3))\n"
   ]
  },
  {
   "cell_type": "markdown",
   "id": "20b3877d",
   "metadata": {},
   "source": [
    "STRING.FORMATION"
   ]
  },
  {
   "cell_type": "code",
   "execution_count": 58,
   "id": "6471f983",
   "metadata": {},
   "outputs": [
    {
     "name": "stdout",
     "output_type": "stream",
     "text": [
      "people generelly take pizza with coke\n"
     ]
    }
   ],
   "source": [
    "print ('people generelly take {1} with {0}'.format ('coke', 'pizza'))"
   ]
  },
  {
   "cell_type": "code",
   "execution_count": 60,
   "id": "b5d1e44e",
   "metadata": {},
   "outputs": [
    {
     "name": "stdout",
     "output_type": "stream",
     "text": [
      "His name is Arnab he is 29 years old\n"
     ]
    }
   ],
   "source": [
    "name ='Arnab'\n",
    "age= 29\n",
    "print ('His name is {} he is {} years old'.format (name,age))"
   ]
  },
  {
   "cell_type": "code",
   "execution_count": null,
   "id": "ee8b4af9",
   "metadata": {},
   "outputs": [],
   "source": []
  },
  {
   "cell_type": "code",
   "execution_count": null,
   "id": "f7b81129",
   "metadata": {},
   "outputs": [],
   "source": []
  }
 ],
 "metadata": {
  "kernelspec": {
   "display_name": "Python 3 (ipykernel)",
   "language": "python",
   "name": "python3"
  },
  "language_info": {
   "codemirror_mode": {
    "name": "ipython",
    "version": 3
   },
   "file_extension": ".py",
   "mimetype": "text/x-python",
   "name": "python",
   "nbconvert_exporter": "python",
   "pygments_lexer": "ipython3",
   "version": "3.10.9"
  }
 },
 "nbformat": 4,
 "nbformat_minor": 5
}
