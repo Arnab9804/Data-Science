{
 "cells": [
  {
   "cell_type": "markdown",
   "id": "2ac2c75b",
   "metadata": {},
   "source": [
    "# NUMPAY"
   ]
  },
  {
   "cell_type": "code",
   "execution_count": 2,
   "id": "08505632",
   "metadata": {},
   "outputs": [],
   "source": [
    "import numpy as np"
   ]
  },
  {
   "cell_type": "code",
   "execution_count": 2,
   "id": "96c8d894",
   "metadata": {},
   "outputs": [
    {
     "data": {
      "text/plain": [
       "array([1, 2, 3])"
      ]
     },
     "execution_count": 2,
     "metadata": {},
     "output_type": "execute_result"
    }
   ],
   "source": [
    "np.array ([1,2,3])"
   ]
  },
  {
   "cell_type": "code",
   "execution_count": 6,
   "id": "29cbff49",
   "metadata": {},
   "outputs": [],
   "source": [
    "a=np.array([10,20,30,40,50])"
   ]
  },
  {
   "cell_type": "code",
   "execution_count": 8,
   "id": "b562c5c8",
   "metadata": {},
   "outputs": [
    {
     "data": {
      "text/plain": [
       "array([10, 20, 30, 40, 50])"
      ]
     },
     "execution_count": 8,
     "metadata": {},
     "output_type": "execute_result"
    }
   ],
   "source": [
    "a"
   ]
  },
  {
   "cell_type": "code",
   "execution_count": 7,
   "id": "cae5cfa1",
   "metadata": {},
   "outputs": [
    {
     "data": {
      "text/plain": [
       "5"
      ]
     },
     "execution_count": 7,
     "metadata": {},
     "output_type": "execute_result"
    }
   ],
   "source": [
    "a.size"
   ]
  },
  {
   "cell_type": "code",
   "execution_count": 9,
   "id": "5c9c410c",
   "metadata": {},
   "outputs": [
    {
     "data": {
      "text/plain": [
       "30"
      ]
     },
     "execution_count": 9,
     "metadata": {},
     "output_type": "execute_result"
    }
   ],
   "source": [
    "a[2]"
   ]
  },
  {
   "cell_type": "code",
   "execution_count": 12,
   "id": "44e8ce23",
   "metadata": {},
   "outputs": [
    {
     "data": {
      "text/plain": [
       "dtype('int32')"
      ]
     },
     "execution_count": 12,
     "metadata": {},
     "output_type": "execute_result"
    }
   ],
   "source": [
    "a.dtype"
   ]
  },
  {
   "cell_type": "code",
   "execution_count": 13,
   "id": "ab7675bc",
   "metadata": {},
   "outputs": [
    {
     "data": {
      "text/plain": [
       "4"
      ]
     },
     "execution_count": 13,
     "metadata": {},
     "output_type": "execute_result"
    }
   ],
   "source": [
    "a.itemsize"
   ]
  },
  {
   "cell_type": "code",
   "execution_count": 14,
   "id": "9ee87525",
   "metadata": {},
   "outputs": [
    {
     "data": {
      "text/plain": [
       "10"
      ]
     },
     "execution_count": 14,
     "metadata": {},
     "output_type": "execute_result"
    }
   ],
   "source": [
    "a.min()\n"
   ]
  },
  {
   "cell_type": "code",
   "execution_count": 15,
   "id": "4efdfbd9",
   "metadata": {},
   "outputs": [
    {
     "data": {
      "text/plain": [
       "50"
      ]
     },
     "execution_count": 15,
     "metadata": {},
     "output_type": "execute_result"
    }
   ],
   "source": [
    "a.max()"
   ]
  },
  {
   "cell_type": "code",
   "execution_count": 17,
   "id": "d8e7f031",
   "metadata": {},
   "outputs": [],
   "source": [
    "p=np.array([[1,2],[3,4]])"
   ]
  },
  {
   "cell_type": "code",
   "execution_count": 18,
   "id": "126a0156",
   "metadata": {},
   "outputs": [
    {
     "data": {
      "text/plain": [
       "array([[1, 2],\n",
       "       [3, 4]])"
      ]
     },
     "execution_count": 18,
     "metadata": {},
     "output_type": "execute_result"
    }
   ],
   "source": [
    "  p"
   ]
  },
  {
   "cell_type": "code",
   "execution_count": 19,
   "id": "f40e2d76",
   "metadata": {},
   "outputs": [
    {
     "data": {
      "text/plain": [
       "(2, 2)"
      ]
     },
     "execution_count": 19,
     "metadata": {},
     "output_type": "execute_result"
    }
   ],
   "source": [
    "p.shape"
   ]
  },
  {
   "cell_type": "code",
   "execution_count": 21,
   "id": "034f1179",
   "metadata": {},
   "outputs": [],
   "source": [
    "s= np.array([[100,200],[300,400]])"
   ]
  },
  {
   "cell_type": "code",
   "execution_count": 22,
   "id": "de5b71c5",
   "metadata": {},
   "outputs": [
    {
     "data": {
      "text/plain": [
       "array([[100, 200],\n",
       "       [300, 400]])"
      ]
     },
     "execution_count": 22,
     "metadata": {},
     "output_type": "execute_result"
    }
   ],
   "source": [
    "s"
   ]
  },
  {
   "cell_type": "code",
   "execution_count": 24,
   "id": "33e21b63",
   "metadata": {},
   "outputs": [],
   "source": [
    "j=np.array([[24,23],[56,12],[18,57]])"
   ]
  },
  {
   "cell_type": "code",
   "execution_count": 25,
   "id": "66ca6e52",
   "metadata": {},
   "outputs": [
    {
     "data": {
      "text/plain": [
       "array([[24, 23],\n",
       "       [56, 12],\n",
       "       [18, 57]])"
      ]
     },
     "execution_count": 25,
     "metadata": {},
     "output_type": "execute_result"
    }
   ],
   "source": [
    "j"
   ]
  },
  {
   "cell_type": "code",
   "execution_count": 29,
   "id": "7818cfdf",
   "metadata": {},
   "outputs": [
    {
     "data": {
      "text/plain": [
       "(3, 2)"
      ]
     },
     "execution_count": 29,
     "metadata": {},
     "output_type": "execute_result"
    }
   ],
   "source": [
    " j.shape"
   ]
  },
  {
   "cell_type": "code",
   "execution_count": 30,
   "id": "42eca55a",
   "metadata": {},
   "outputs": [
    {
     "data": {
      "text/plain": [
       "array([[24, 23, 56],\n",
       "       [12, 18, 57]])"
      ]
     },
     "execution_count": 30,
     "metadata": {},
     "output_type": "execute_result"
    }
   ],
   "source": [
    "j.reshape(2,3)"
   ]
  },
  {
   "cell_type": "code",
   "execution_count": 3,
   "id": "1bd8a863",
   "metadata": {},
   "outputs": [],
   "source": [
    "import numpy as np"
   ]
  },
  {
   "cell_type": "code",
   "execution_count": 18,
   "id": "34f0a81f",
   "metadata": {},
   "outputs": [
    {
     "name": "stdout",
     "output_type": "stream",
     "text": [
      "[0 1 2 3 4 5 6 7 8 9]\n",
      "Enter the value for search6\n",
      "6\n"
     ]
    }
   ],
   "source": [
    "e=np.arange(10)\n",
    "\n",
    "print (e)\n",
    "\n",
    "k=0\n",
    "\n",
    "val =int (input (\"Enter the value for search\"))\n",
    "\n",
    "for i in e:\n",
    "    if i==val:\n",
    "        print (k)\n",
    "        \n",
    "        break\n",
    "        \n",
    "    k+=1"
   ]
  },
  {
   "cell_type": "code",
   "execution_count": 27,
   "id": "630f4c77",
   "metadata": {},
   "outputs": [
    {
     "name": "stdout",
     "output_type": "stream",
     "text": [
      "[ 6  7  8  9 10]\n"
     ]
    }
   ],
   "source": [
    "from numpy import*\n",
    "\n",
    "arr=np.array([1,2,3,4,5])\n",
    "\n",
    "arr=arr+5\n",
    "\n",
    "print (arr)\n"
   ]
  },
  {
   "cell_type": "code",
   "execution_count": 28,
   "id": "bae623b1",
   "metadata": {},
   "outputs": [
    {
     "name": "stdout",
     "output_type": "stream",
     "text": [
      "[ 0.96017029  0.75390225 -0.14550003 -0.91113026 -0.83907153]\n"
     ]
    }
   ],
   "source": [
    "print (cos(arr))"
   ]
  },
  {
   "cell_type": "code",
   "execution_count": 29,
   "id": "218a2296",
   "metadata": {},
   "outputs": [
    {
     "name": "stdout",
     "output_type": "stream",
     "text": [
      "[-0.2794155   0.6569866   0.98935825  0.41211849 -0.54402111]\n"
     ]
    }
   ],
   "source": [
    "print (sin(arr))"
   ]
  },
  {
   "cell_type": "code",
   "execution_count": 30,
   "id": "10b4999e",
   "metadata": {},
   "outputs": [
    {
     "name": "stdout",
     "output_type": "stream",
     "text": [
      "[1.79175947 1.94591015 2.07944154 2.19722458 2.30258509]\n"
     ]
    }
   ],
   "source": [
    "print (log(arr))"
   ]
  },
  {
   "cell_type": "code",
   "execution_count": 34,
   "id": "2530aa41",
   "metadata": {},
   "outputs": [],
   "source": [
    "arr1=array([2,6,7,8,9])\n",
    "\n",
    "arr2 =arr1"
   ]
  },
  {
   "cell_type": "code",
   "execution_count": 36,
   "id": "0429f8e1",
   "metadata": {},
   "outputs": [
    {
     "name": "stdout",
     "output_type": "stream",
     "text": [
      "[2 6 7 8 9]\n",
      "[2 6 7 8 9]\n"
     ]
    }
   ],
   "source": [
    "print (arr2)\n",
    "print (arr1)"
   ]
  },
  {
   "cell_type": "code",
   "execution_count": 39,
   "id": "9f780bc4",
   "metadata": {},
   "outputs": [
    {
     "name": "stdout",
     "output_type": "stream",
     "text": [
      "[ 2  6 10  8  9]\n",
      "[ 2  6 10  8  9]\n"
     ]
    }
   ],
   "source": [
    "#shallow Copy\n",
    "\n",
    "arr2=arr1.view()\n",
    "\n",
    "arr1 [2]=10\n",
    "\n",
    "print (arr1)\n",
    "print (arr2)"
   ]
  },
  {
   "cell_type": "code",
   "execution_count": 41,
   "id": "25da9e2d",
   "metadata": {},
   "outputs": [
    {
     "name": "stdout",
     "output_type": "stream",
     "text": [
      "[ 2 12 10  8  9]\n",
      "[ 2  6 10  8  9]\n"
     ]
    }
   ],
   "source": [
    "#Deep Copy\n",
    "\n",
    "arr1=arr2.copy()\n",
    "\n",
    "arr1 [1]=12\n",
    "\n",
    "print (arr1)\n",
    "print (arr2)"
   ]
  },
  {
   "cell_type": "code",
   "execution_count": null,
   "id": "ca454fa9",
   "metadata": {},
   "outputs": [],
   "source": []
  },
  {
   "cell_type": "code",
   "execution_count": null,
   "id": "05188ac2",
   "metadata": {},
   "outputs": [],
   "source": []
  },
  {
   "cell_type": "code",
   "execution_count": null,
   "id": "d0953374",
   "metadata": {},
   "outputs": [],
   "source": []
  },
  {
   "cell_type": "code",
   "execution_count": 33,
   "id": "baf69912",
   "metadata": {},
   "outputs": [
    {
     "data": {
      "text/plain": [
       "array([[ 0,  1,  2,  3,  4],\n",
       "       [ 5,  6,  7,  8,  9],\n",
       "       [10, 11, 12, 13, 14]])"
      ]
     },
     "execution_count": 33,
     "metadata": {},
     "output_type": "execute_result"
    }
   ],
   "source": [
    "np.arange (15).reshape (3,5)"
   ]
  },
  {
   "cell_type": "code",
   "execution_count": 34,
   "id": "3f3587db",
   "metadata": {},
   "outputs": [],
   "source": [
    "a=np.array([1,2,3])\n",
    "b=np.array([4,5,6])\n",
    "\n"
   ]
  },
  {
   "cell_type": "code",
   "execution_count": 35,
   "id": "7313e4b5",
   "metadata": {},
   "outputs": [
    {
     "data": {
      "text/plain": [
       "array([5, 7, 9])"
      ]
     },
     "execution_count": 35,
     "metadata": {},
     "output_type": "execute_result"
    }
   ],
   "source": [
    "a+b"
   ]
  },
  {
   "cell_type": "code",
   "execution_count": 36,
   "id": "a47b9cac",
   "metadata": {},
   "outputs": [
    {
     "data": {
      "text/plain": [
       "array([ 4, 10, 18])"
      ]
     },
     "execution_count": 36,
     "metadata": {},
     "output_type": "execute_result"
    }
   ],
   "source": [
    "a*b"
   ]
  },
  {
   "cell_type": "code",
   "execution_count": 37,
   "id": "0bd0321e",
   "metadata": {},
   "outputs": [],
   "source": [
    "c=np.array([4])"
   ]
  },
  {
   "cell_type": "code",
   "execution_count": 39,
   "id": "f1213e13",
   "metadata": {},
   "outputs": [],
   "source": [
    "d=a*c"
   ]
  },
  {
   "cell_type": "code",
   "execution_count": 40,
   "id": "f57c35d5",
   "metadata": {},
   "outputs": [
    {
     "data": {
      "text/plain": [
       "array([ 4,  8, 12])"
      ]
     },
     "execution_count": 40,
     "metadata": {},
     "output_type": "execute_result"
    }
   ],
   "source": [
    "d"
   ]
  },
  {
   "cell_type": "markdown",
   "id": "a97a82fb",
   "metadata": {},
   "source": [
    "# ARRAY"
   ]
  },
  {
   "cell_type": "code",
   "execution_count": 5,
   "id": "66e27fe1",
   "metadata": {},
   "outputs": [],
   "source": [
    "import array as arr\n",
    "    "
   ]
  },
  {
   "cell_type": "code",
   "execution_count": 19,
   "id": "bfd1e4ba",
   "metadata": {},
   "outputs": [
    {
     "name": "stdout",
     "output_type": "stream",
     "text": [
      "Enter the length of the array4\n",
      "Enter the next Value16\n",
      "Enter the next Value45\n",
      "Enter the next Value98\n",
      "Enter the next Value75\n",
      "array('i', [16, 45, 98, 75])\n",
      "Enter the value for search98\n",
      "2\n",
      "2\n"
     ]
    }
   ],
   "source": [
    "from array import*\n",
    "\n",
    "arr=array('i', [])\n",
    "n=int(input(\"Enter the length of the array\"))\n",
    "for ai in range (n):\n",
    "    x=int(input(\"Enter the next Value\"))\n",
    "    arr.append (x)\n",
    "    \n",
    "    \n",
    "    \n",
    "    \n",
    "print(arr) \n",
    "\n",
    "#using loop to find index value\n",
    "\n",
    "val=int(input(\"Enter the value for search\"))\n",
    "\n",
    "k=0\n",
    "\n",
    "for i in arr:\n",
    "    if i ==val:\n",
    "        print (k)\n",
    "        \n",
    "        break\n",
    "    k+=1\n",
    "    \n",
    "#using function to find index value \n",
    "\n",
    "print (arr.index(val))\n",
    "        "
   ]
  },
  {
   "cell_type": "code",
   "execution_count": null,
   "id": "ce49e41f",
   "metadata": {},
   "outputs": [],
   "source": []
  },
  {
   "cell_type": "code",
   "execution_count": null,
   "id": "e8ad86a9",
   "metadata": {},
   "outputs": [],
   "source": []
  },
  {
   "cell_type": "code",
   "execution_count": null,
   "id": "d7bdc479",
   "metadata": {},
   "outputs": [],
   "source": []
  },
  {
   "cell_type": "code",
   "execution_count": null,
   "id": "b6823959",
   "metadata": {},
   "outputs": [],
   "source": []
  },
  {
   "cell_type": "code",
   "execution_count": null,
   "id": "d6ccdbe0",
   "metadata": {},
   "outputs": [],
   "source": []
  },
  {
   "cell_type": "code",
   "execution_count": null,
   "id": "1bcd444f",
   "metadata": {},
   "outputs": [],
   "source": []
  },
  {
   "cell_type": "code",
   "execution_count": null,
   "id": "e2a14c7b",
   "metadata": {},
   "outputs": [],
   "source": []
  },
  {
   "cell_type": "code",
   "execution_count": null,
   "id": "01d397b9",
   "metadata": {},
   "outputs": [],
   "source": []
  },
  {
   "cell_type": "code",
   "execution_count": null,
   "id": "5af9fee3",
   "metadata": {},
   "outputs": [],
   "source": []
  },
  {
   "cell_type": "code",
   "execution_count": null,
   "id": "c2c5dda7",
   "metadata": {},
   "outputs": [],
   "source": []
  }
 ],
 "metadata": {
  "kernelspec": {
   "display_name": "Python 3 (ipykernel)",
   "language": "python",
   "name": "python3"
  },
  "language_info": {
   "codemirror_mode": {
    "name": "ipython",
    "version": 3
   },
   "file_extension": ".py",
   "mimetype": "text/x-python",
   "name": "python",
   "nbconvert_exporter": "python",
   "pygments_lexer": "ipython3",
   "version": "3.10.9"
  }
 },
 "nbformat": 4,
 "nbformat_minor": 5
}
