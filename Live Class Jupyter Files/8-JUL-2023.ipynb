{
 "cells": [
  {
   "cell_type": "markdown",
   "id": "a1a7f5f5",
   "metadata": {},
   "source": [
    "REGEX/REGULER EXPRESSION"
   ]
  },
  {
   "cell_type": "markdown",
   "id": "4267e895",
   "metadata": {},
   "source": [
    "Findall"
   ]
  },
  {
   "cell_type": "code",
   "execution_count": 2,
   "id": "966f0f66",
   "metadata": {},
   "outputs": [
    {
     "name": "stdout",
     "output_type": "stream",
     "text": [
      "['Data Science', 'Data Science']\n"
     ]
    }
   ],
   "source": [
    "import re\n",
    "\n",
    "pattern=\"Data Science\"\n",
    "text=\"Data Science is a stream and it is a part of AI, You can solve many complex problem using Data Science tools & techs.\"\n",
    "matches= re.findall(pattern,text)\n",
    "print (matches)"
   ]
  },
  {
   "cell_type": "markdown",
   "id": "30b464c9",
   "metadata": {},
   "source": [
    "# Extracting Digits From A String"
   ]
  },
  {
   "cell_type": "markdown",
   "id": "9338b21c",
   "metadata": {},
   "source": [
    "This code finds all sequences of digits within the text."
   ]
  },
  {
   "cell_type": "code",
   "execution_count": 3,
   "id": "ccb4a6b9",
   "metadata": {},
   "outputs": [
    {
     "name": "stdout",
     "output_type": "stream",
     "text": [
      "['123', '456']\n"
     ]
    }
   ],
   "source": [
    "pattern=\"\\d+\"\n",
    "text=\"There are 123 apples & 456 oranges\"\n",
    "matches= re.findall(pattern,text)\n",
    "print (matches)\n"
   ]
  },
  {
   "cell_type": "code",
   "execution_count": 10,
   "id": "4fc74c5b",
   "metadata": {},
   "outputs": [
    {
     "name": "stdout",
     "output_type": "stream",
     "text": [
      "['50']\n",
      "['60']\n",
      "['150']\n"
     ]
    }
   ],
   "source": [
    "#Extracting digits from a list of string\n",
    "pattern=\"\\d+\"\n",
    "price=['Apple cost Rs 50', 'Rs 60 for each pineapple', 'Rs 150 per watermelon']\n",
    "for i in price:\n",
    "    matches= re.findall(pattern,i)\n",
    "    print (matches)"
   ]
  },
  {
   "cell_type": "markdown",
   "id": "e2cef37c",
   "metadata": {},
   "source": [
    "# Search"
   ]
  },
  {
   "cell_type": "code",
   "execution_count": 11,
   "id": "41d557cb",
   "metadata": {},
   "outputs": [
    {
     "name": "stdout",
     "output_type": "stream",
     "text": [
      "None\n"
     ]
    }
   ],
   "source": [
    "test=\"India China USA\"\n",
    "x=re.search (\"France\", test)\n",
    "print (x)"
   ]
  },
  {
   "cell_type": "code",
   "execution_count": 13,
   "id": "50deefea",
   "metadata": {},
   "outputs": [
    {
     "name": "stdout",
     "output_type": "stream",
     "text": [
      "<re.Match object; span=(2, 8), match='banana'>\n",
      "None\n",
      "None\n",
      "<re.Match object; span=(4, 10), match='banana'>\n",
      "<re.Match object; span=(14, 20), match='banana'>\n"
     ]
    }
   ],
   "source": [
    "msges=['A banana is an elongated & very delicious piece of fruit',\n",
    "      'they are alos super healthy',\n",
    "      'The fruit is variable in size, color, and firmness, but is usually elongated and curved',\n",
    "      'The banana plant is the largest herbaceous flowering plant.',\n",
    "      'The leaves of banana plants are composed of a stalk (petiole) and a blade (lamina).']\n",
    "\n",
    "for msg in msges:\n",
    "    search = re.search (\"banana\", msg)\n",
    "    print (search )"
   ]
  },
  {
   "cell_type": "code",
   "execution_count": 14,
   "id": "d730e99e",
   "metadata": {},
   "outputs": [
    {
     "name": "stdout",
     "output_type": "stream",
     "text": [
      "<re.Match object; span=(0, 28), match='This product is really great'>\n"
     ]
    }
   ],
   "source": [
    "msg=\"This product is really great\"\n",
    "search= re.search (\"^This.*great$\",msg)\n",
    "print (search)"
   ]
  },
  {
   "cell_type": "markdown",
   "id": "17b26fb9",
   "metadata": {},
   "source": [
    "# Split"
   ]
  },
  {
   "cell_type": "markdown",
   "id": "1eda92e9",
   "metadata": {},
   "source": [
    "Returns a list where the string hase been split at each match"
   ]
  },
  {
   "cell_type": "code",
   "execution_count": 15,
   "id": "b9f5b483",
   "metadata": {},
   "outputs": [
    {
     "name": "stdout",
     "output_type": "stream",
     "text": [
      "['India', 'is', 'a', 'beautiful', 'country']\n"
     ]
    }
   ],
   "source": [
    "text=\"India is a beautiful country\"\n",
    "x=re.split (\"\\s\",text)\n",
    "print (x)"
   ]
  },
  {
   "cell_type": "markdown",
   "id": "007a878a",
   "metadata": {},
   "source": [
    "# Sub"
   ]
  },
  {
   "cell_type": "code",
   "execution_count": 16,
   "id": "3d3a40a8",
   "metadata": {},
   "outputs": [
    {
     "name": "stdout",
     "output_type": "stream",
     "text": [
      "This==function==replaces==spaces==by==assigned==Char\n"
     ]
    }
   ],
   "source": [
    "text=\"This function replaces spaces by assigned Char\"\n",
    "x=re.sub(\"\\s\", \"==\",text)\n",
    "print (x)"
   ]
  },
  {
   "cell_type": "code",
   "execution_count": 17,
   "id": "20769c43",
   "metadata": {},
   "outputs": [
    {
     "name": "stdout",
     "output_type": "stream",
     "text": [
      "This item cost $ 500\n"
     ]
    }
   ],
   "source": [
    "text2=\"This item cost Rs 500\"\n",
    "x=re.sub(\"Rs\",\"$\",text2)\n",
    "print (x)"
   ]
  },
  {
   "cell_type": "markdown",
   "id": "0bec16e1",
   "metadata": {},
   "source": [
    "# Exceptions "
   ]
  },
  {
   "cell_type": "code",
   "execution_count": 20,
   "id": "bb02a5fb",
   "metadata": {},
   "outputs": [
    {
     "ename": "SyntaxError",
     "evalue": "invalid syntax (1836666992.py, line 3)",
     "output_type": "error",
     "traceback": [
      "\u001b[1;36m  Cell \u001b[1;32mIn[20], line 3\u001b[1;36m\u001b[0m\n\u001b[1;33m    except name error as err:\u001b[0m\n\u001b[1;37m                ^\u001b[0m\n\u001b[1;31mSyntaxError\u001b[0m\u001b[1;31m:\u001b[0m invalid syntax\n"
     ]
    }
   ],
   "source": [
    "try:\n",
    "    8+m*2\n",
    "except name error as err:\n",
    "    print (\"Handling run time error\",err)\n",
    "\n",
    "\n",
    "    "
   ]
  },
  {
   "cell_type": "code",
   "execution_count": 65,
   "id": "53ad777c",
   "metadata": {},
   "outputs": [
    {
     "name": "stdout",
     "output_type": "stream",
     "text": [
      "Value: 0\n",
      "End of the program\n"
     ]
    },
    {
     "ename": "NameError",
     "evalue": "name 'Zerodivisionerror' is not defined",
     "output_type": "error",
     "traceback": [
      "\u001b[1;31m---------------------------------------------------------------------------\u001b[0m",
      "\u001b[1;31mZeroDivisionError\u001b[0m                         Traceback (most recent call last)",
      "Cell \u001b[1;32mIn[65], line 3\u001b[0m\n\u001b[0;32m      2\u001b[0m     i \u001b[38;5;241m=\u001b[39m \u001b[38;5;28mint\u001b[39m(\u001b[38;5;28minput\u001b[39m(\u001b[38;5;124m\"\u001b[39m\u001b[38;5;124mValue: \u001b[39m\u001b[38;5;124m\"\u001b[39m))\n\u001b[1;32m----> 3\u001b[0m     p \u001b[38;5;241m=\u001b[39m \u001b[38;5;241;43m50\u001b[39;49m\u001b[43m \u001b[49m\u001b[38;5;241;43m/\u001b[39;49m\u001b[43m \u001b[49m\u001b[43mi\u001b[49m\n\u001b[0;32m      4\u001b[0m \u001b[38;5;28;01mexcept\u001b[39;00m Zerodivisionerror:\n",
      "\u001b[1;31mZeroDivisionError\u001b[0m: division by zero",
      "\nDuring handling of the above exception, another exception occurred:\n",
      "\u001b[1;31mNameError\u001b[0m                                 Traceback (most recent call last)",
      "Cell \u001b[1;32mIn[65], line 4\u001b[0m\n\u001b[0;32m      2\u001b[0m     i \u001b[38;5;241m=\u001b[39m \u001b[38;5;28mint\u001b[39m(\u001b[38;5;28minput\u001b[39m(\u001b[38;5;124m\"\u001b[39m\u001b[38;5;124mValue: \u001b[39m\u001b[38;5;124m\"\u001b[39m))\n\u001b[0;32m      3\u001b[0m     p \u001b[38;5;241m=\u001b[39m \u001b[38;5;241m50\u001b[39m \u001b[38;5;241m/\u001b[39m i\n\u001b[1;32m----> 4\u001b[0m \u001b[38;5;28;01mexcept\u001b[39;00m \u001b[43mZerodivisionerror\u001b[49m:\n\u001b[0;32m      5\u001b[0m     \u001b[38;5;28mprint\u001b[39m(\u001b[38;5;124m\"\u001b[39m\u001b[38;5;124mZero division error\u001b[39m\u001b[38;5;124m\"\u001b[39m)\n\u001b[0;32m      6\u001b[0m \u001b[38;5;28;01mexcept\u001b[39;00m \u001b[38;5;167;01mNameError\u001b[39;00m:\n",
      "\u001b[1;31mNameError\u001b[0m: name 'Zerodivisionerror' is not defined"
     ]
    }
   ],
   "source": [
    "try:\n",
    "    i = int(input(\"Value: \"))\n",
    "    p = 50 / i\n",
    "except Zerodivisionerror:\n",
    "    print(\"Zero division error\")\n",
    "except NameError:\n",
    "    print(\"Name Error\")\n",
    "else:\n",
    "    print(p)\n",
    "    \n",
    "finally:\n",
    "    print (\"End of the program\")"
   ]
  },
  {
   "cell_type": "code",
   "execution_count": 64,
   "id": "cff1bd97",
   "metadata": {},
   "outputs": [
    {
     "ename": "SyntaxError",
     "evalue": "invalid syntax (1457693388.py, line 3)",
     "output_type": "error",
     "traceback": [
      "\u001b[1;36m  Cell \u001b[1;32mIn[64], line 3\u001b[1;36m\u001b[0m\n\u001b[1;33m    except Name error as err:\u001b[0m\n\u001b[1;37m                ^\u001b[0m\n\u001b[1;31mSyntaxError\u001b[0m\u001b[1;31m:\u001b[0m invalid syntax\n"
     ]
    }
   ],
   "source": [
    "try:\n",
    "    8+m*2\n",
    "except Name error as err:\n",
    "    print (\"handling run time error:\",err)\n",
    "    \n"
   ]
  },
  {
   "cell_type": "code",
   "execution_count": 61,
   "id": "2a7e0e25",
   "metadata": {},
   "outputs": [
    {
     "name": "stdout",
     "output_type": "stream",
     "text": [
      "12\n",
      "End of the program\n"
     ]
    }
   ],
   "source": [
    "try:\n",
    "    a=8+2*2\n",
    "except:\n",
    "    print (\"name error\")\n",
    "else:\n",
    "    print (a)\n",
    "finally:\n",
    "    print (\"End of the program\")"
   ]
  },
  {
   "cell_type": "code",
   "execution_count": null,
   "id": "5ad791df",
   "metadata": {},
   "outputs": [],
   "source": []
  },
  {
   "cell_type": "code",
   "execution_count": 51,
   "id": "68a902ce",
   "metadata": {},
   "outputs": [
    {
     "name": "stdout",
     "output_type": "stream",
     "text": [
      "10\n",
      "20\n",
      "30\n",
      "Hello\n",
      "End of the Program\n"
     ]
    }
   ],
   "source": [
    "a=[10,20,30]\n",
    "\n",
    "try:\n",
    "    \n",
    "    print (a[0])\n",
    "    print (a[1])\n",
    "    print (a[2])\n",
    "    \n",
    "except:\n",
    "    print (\"Out of range\")\n",
    "else:\n",
    "    print (\"Hello\")\n",
    "finally:\n",
    "    print (\"End of the Program\")\n",
    "\n"
   ]
  },
  {
   "cell_type": "code",
   "execution_count": 58,
   "id": "21f06ac7",
   "metadata": {},
   "outputs": [
    {
     "name": "stdout",
     "output_type": "stream",
     "text": [
      "Enter a valuem\n",
      "Any Error\n",
      "End of the program\n"
     ]
    }
   ],
   "source": [
    "try:\n",
    "    b=int(input(\"Enter a value\"))\n",
    "    print (b)\n",
    "except:\n",
    "    print (\"Any Error\")\n",
    "else:\n",
    "    print (b)\n",
    "finally:\n",
    "    print (\"End of the program\")"
   ]
  },
  {
   "cell_type": "code",
   "execution_count": null,
   "id": "85b2c7f8",
   "metadata": {},
   "outputs": [],
   "source": []
  },
  {
   "cell_type": "code",
   "execution_count": null,
   "id": "8609ba16",
   "metadata": {},
   "outputs": [],
   "source": []
  },
  {
   "cell_type": "code",
   "execution_count": null,
   "id": "ed0b5b46",
   "metadata": {},
   "outputs": [],
   "source": []
  },
  {
   "cell_type": "code",
   "execution_count": null,
   "id": "2ad00f67",
   "metadata": {},
   "outputs": [],
   "source": []
  },
  {
   "cell_type": "code",
   "execution_count": null,
   "id": "f2f3584c",
   "metadata": {},
   "outputs": [],
   "source": []
  },
  {
   "cell_type": "code",
   "execution_count": null,
   "id": "2c168b2c",
   "metadata": {},
   "outputs": [],
   "source": []
  },
  {
   "cell_type": "code",
   "execution_count": null,
   "id": "c7fc00a4",
   "metadata": {},
   "outputs": [],
   "source": []
  },
  {
   "cell_type": "code",
   "execution_count": null,
   "id": "009c9e7a",
   "metadata": {},
   "outputs": [],
   "source": []
  },
  {
   "cell_type": "markdown",
   "id": "4df187bd",
   "metadata": {},
   "source": [
    "# Python Inheritance"
   ]
  },
  {
   "cell_type": "code",
   "execution_count": 23,
   "id": "4cf1d548",
   "metadata": {},
   "outputs": [
    {
     "name": "stdout",
     "output_type": "stream",
     "text": [
      "Sparrow Chirping\n",
      "Bird Speaking\n"
     ]
    }
   ],
   "source": [
    "#Base class\n",
    "class Bird:\n",
    "    def speak(self):\n",
    "        print (\"Bird Speaking\")\n",
    "        \n",
    "#child class\n",
    "class sperrow(Bird):\n",
    "    def chirp(self):\n",
    "        print (\"Sparrow Chirping\")\n",
    "        \n",
    "#object creation\n",
    "sp=sperrow()\n",
    "sp.chirp()\n",
    "sp.speak()\n",
    "    "
   ]
  },
  {
   "cell_type": "markdown",
   "id": "3d583c5e",
   "metadata": {},
   "source": [
    "Multi lavel inheritance"
   ]
  },
  {
   "cell_type": "code",
   "execution_count": 24,
   "id": "e184d405",
   "metadata": {},
   "outputs": [
    {
     "name": "stdout",
     "output_type": "stream",
     "text": [
      "Grandfather Speaking\n",
      "Father Sleeping\n",
      "Son Eating\n"
     ]
    }
   ],
   "source": [
    "class grandfather:\n",
    "    def speak(self):\n",
    "        print (\"Grandfather Speaking\")\n",
    "        \n",
    "class Father (grandfather):\n",
    "    def sleep(Self):\n",
    "        print (\"Father Sleeping\")\n",
    "        \n",
    "class son(Father):\n",
    "    def eat (self):\n",
    "        print (\"Son Eating\")\n",
    "        \n",
    "#object creation\n",
    "\n",
    "ch=son()\n",
    "ch.speak()\n",
    "ch.sleep()\n",
    "ch.eat()"
   ]
  },
  {
   "cell_type": "markdown",
   "id": "57c144ff",
   "metadata": {},
   "source": [
    "Multiple Inheritance"
   ]
  },
  {
   "cell_type": "code",
   "execution_count": 27,
   "id": "d74087f9",
   "metadata": {},
   "outputs": [
    {
     "name": "stdout",
     "output_type": "stream",
     "text": [
      "30\n",
      "50\n",
      "2.0\n"
     ]
    }
   ],
   "source": [
    "class caculation1:\n",
    "    def sumfun (self,a,b):\n",
    "        return a+b\n",
    "    \n",
    "    \n",
    "class caculation2:\n",
    "    def multifun(self,a,b):\n",
    "        return a*b\n",
    "    \n",
    "    \n",
    "class derived (caculation1,caculation2):\n",
    "    def divide (self,a,b):\n",
    "        return a/b\n",
    "    \n",
    "    \n",
    "d=derived()\n",
    "print (d.sumfun(10,20))\n",
    "print (d.multifun(5,10))\n",
    "print (d.divide(20,10))\n",
    "    \n",
    "    "
   ]
  },
  {
   "cell_type": "markdown",
   "id": "128194dc",
   "metadata": {},
   "source": [
    "Method Overriding"
   ]
  },
  {
   "cell_type": "code",
   "execution_count": 32,
   "id": "f5ea6994",
   "metadata": {},
   "outputs": [
    {
     "name": "stdout",
     "output_type": "stream",
     "text": [
      "Barking\n"
     ]
    }
   ],
   "source": [
    "class Animal:\n",
    "    def speak(self):\n",
    "        print (\"Speaking\")\n",
    "        \n",
    "class Dog (Animal):\n",
    "    def speak (self):\n",
    "        print (\"Barking\")\n",
    "        \n",
    "d=Dog()\n",
    "d.speak()\n",
    "    \n",
    "    "
   ]
  },
  {
   "cell_type": "code",
   "execution_count": 43,
   "id": "1366b088",
   "metadata": {},
   "outputs": [
    {
     "name": "stdout",
     "output_type": "stream",
     "text": [
      "Bank rate of interese= 11\n"
     ]
    }
   ],
   "source": [
    "class bank:\n",
    "    def getroi(self):\n",
    "        return 11\n",
    "    \n",
    "class HDFC (bank):\n",
    "    def getroi(self):\n",
    "        return 7\n",
    "    \n",
    "class ICICI (HDFC):\n",
    "    def getroi(self):\n",
    "        return 8\n",
    "    \n",
    "b1=bank()\n",
    "b2=HDFC()\n",
    "b3=ICICI()\n",
    "\n",
    "print (\"Bank rate of interese=\",b1.getroi())\n",
    "    "
   ]
  },
  {
   "cell_type": "code",
   "execution_count": null,
   "id": "77102adb",
   "metadata": {},
   "outputs": [],
   "source": []
  }
 ],
 "metadata": {
  "kernelspec": {
   "display_name": "Python 3 (ipykernel)",
   "language": "python",
   "name": "python3"
  },
  "language_info": {
   "codemirror_mode": {
    "name": "ipython",
    "version": 3
   },
   "file_extension": ".py",
   "mimetype": "text/x-python",
   "name": "python",
   "nbconvert_exporter": "python",
   "pygments_lexer": "ipython3",
   "version": "3.10.9"
  }
 },
 "nbformat": 4,
 "nbformat_minor": 5
}
