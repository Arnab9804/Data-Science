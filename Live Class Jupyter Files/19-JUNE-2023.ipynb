{
 "cells": [
  {
   "cell_type": "code",
   "execution_count": 4,
   "id": "5418139e",
   "metadata": {},
   "outputs": [
    {
     "name": "stdout",
     "output_type": "stream",
     "text": [
      "0 1 2 3 4 5 6 7 8 9 10 "
     ]
    }
   ],
   "source": [
    "i=0\n",
    "\n",
    "while (i<=10):\n",
    "    print (i, end=\" \")\n",
    "    i=i+1\n",
    "    "
   ]
  },
  {
   "cell_type": "code",
   "execution_count": 6,
   "id": "74135476",
   "metadata": {},
   "outputs": [
    {
     "name": "stdout",
     "output_type": "stream",
     "text": [
      "Enter a Number23\n",
      "23 * 1 = 23\n",
      "23 * 2 = 46\n",
      "23 * 3 = 69\n",
      "23 * 4 = 92\n",
      "23 * 5 = 115\n",
      "23 * 6 = 138\n",
      "23 * 7 = 161\n",
      "23 * 8 = 184\n",
      "23 * 9 = 207\n"
     ]
    }
   ],
   "source": [
    "i=1\n",
    "j=int(input(\"Enter a Number\"))\n",
    "while (i<10):\n",
    "    print (j,'*',i,'=',j*i)\n",
    "    i=i+1"
   ]
  },
  {
   "cell_type": "code",
   "execution_count": 7,
   "id": "f10abf15",
   "metadata": {},
   "outputs": [
    {
     "name": "stdout",
     "output_type": "stream",
     "text": [
      "10\n",
      "20\n",
      "30\n"
     ]
    }
   ],
   "source": [
    "for i in [10,20,30]:\n",
    "    print (i)\n",
    "    "
   ]
  },
  {
   "cell_type": "code",
   "execution_count": 8,
   "id": "c6417b3b",
   "metadata": {},
   "outputs": [
    {
     "ename": "TypeError",
     "evalue": "'type' object is not subscriptable",
     "output_type": "error",
     "traceback": [
      "\u001b[1;31m---------------------------------------------------------------------------\u001b[0m",
      "\u001b[1;31mTypeError\u001b[0m                                 Traceback (most recent call last)",
      "Cell \u001b[1;32mIn[8], line 1\u001b[0m\n\u001b[1;32m----> 1\u001b[0m \u001b[38;5;28;01mfor\u001b[39;00m i \u001b[38;5;129;01min\u001b[39;00m \u001b[38;5;28;43mrange\u001b[39;49m\u001b[43m \u001b[49m\u001b[43m[\u001b[49m\u001b[38;5;241;43m1\u001b[39;49m\u001b[43m,\u001b[49m\u001b[38;5;241;43m4\u001b[39;49m\u001b[43m]\u001b[49m:\n\u001b[0;32m      2\u001b[0m     \u001b[38;5;28mprint\u001b[39m (i)\n",
      "\u001b[1;31mTypeError\u001b[0m: 'type' object is not subscriptable"
     ]
    }
   ],
   "source": [
    "for i in range [1,4]:\n",
    "    print (i)"
   ]
  },
  {
   "cell_type": "code",
   "execution_count": 9,
   "id": "89bb254e",
   "metadata": {},
   "outputs": [
    {
     "data": {
      "text/plain": [
       "range(0, 10)"
      ]
     },
     "execution_count": 9,
     "metadata": {},
     "output_type": "execute_result"
    }
   ],
   "source": [
    "range (10)"
   ]
  },
  {
   "cell_type": "code",
   "execution_count": 10,
   "id": "f1eb925f",
   "metadata": {},
   "outputs": [
    {
     "data": {
      "text/plain": [
       "[0, 1, 2, 3, 4, 5, 6, 7, 8, 9]"
      ]
     },
     "execution_count": 10,
     "metadata": {},
     "output_type": "execute_result"
    }
   ],
   "source": [
    "list (range (10))"
   ]
  },
  {
   "cell_type": "code",
   "execution_count": 12,
   "id": "a1dd4118",
   "metadata": {},
   "outputs": [
    {
     "name": "stdout",
     "output_type": "stream",
     "text": [
      "0 1 2 3 4 5 6 7 8 9 "
     ]
    }
   ],
   "source": [
    "for i in range (10):\n",
    "    print (i, end=\" \")"
   ]
  },
  {
   "cell_type": "code",
   "execution_count": 14,
   "id": "05e353ea",
   "metadata": {},
   "outputs": [
    {
     "name": "stdout",
     "output_type": "stream",
     "text": [
      "1\n",
      "2\n",
      "3\n",
      "4\n",
      "5\n",
      "6\n",
      "7\n",
      "8\n",
      "9\n",
      "10\n"
     ]
    }
   ],
   "source": [
    "for i in range (1,11):\n",
    "    print (i)"
   ]
  },
  {
   "cell_type": "code",
   "execution_count": 15,
   "id": "f9501dc7",
   "metadata": {},
   "outputs": [
    {
     "name": "stdout",
     "output_type": "stream",
     "text": [
      "2\n",
      "4\n",
      "6\n",
      "8\n"
     ]
    }
   ],
   "source": [
    "for i in range (2,10,2):\n",
    "    print (i)"
   ]
  },
  {
   "cell_type": "code",
   "execution_count": 16,
   "id": "c2f216a2",
   "metadata": {},
   "outputs": [
    {
     "name": "stdout",
     "output_type": "stream",
     "text": [
      "Enter the number for generating a table2\n",
      "2 * 1 = 2\n",
      "2 * 2 = 4\n",
      "2 * 3 = 6\n",
      "2 * 4 = 8\n",
      "2 * 5 = 10\n",
      "2 * 6 = 12\n",
      "2 * 7 = 14\n",
      "2 * 8 = 16\n",
      "2 * 9 = 18\n",
      "2 * 10 = 20\n"
     ]
    }
   ],
   "source": [
    "j= int(input(\"Enter the number for generating a table\"))\n",
    "for i in range (1,11):\n",
    "    print (j,'*',i,'=',j*i)"
   ]
  },
  {
   "cell_type": "code",
   "execution_count": 18,
   "id": "c6dcc5f7",
   "metadata": {},
   "outputs": [
    {
     "name": "stdout",
     "output_type": "stream",
     "text": [
      "Enter the number for generating a table2\n",
      "2 * 1 = 2\n",
      "2 * 2 = 4\n",
      "2 * 3 = 6\n",
      "2 * 4 = 8\n",
      "2 * 5 = 10\n",
      "2 * 6 = 12\n",
      "2 * 7 = 14\n",
      "2 * 8 = 16\n",
      "2 * 9 = 18\n",
      "2 * 10 = 20\n"
     ]
    }
   ],
   "source": [
    "i=1\n",
    "j= int(input(\"Enter the number for generating a table\"))\n",
    "while (i<=10):\n",
    "    print (j,'*',i,'=',j*i)\n",
    "    i=i+1"
   ]
  },
  {
   "cell_type": "code",
   "execution_count": 25,
   "id": "badd4735",
   "metadata": {},
   "outputs": [
    {
     "name": "stdout",
     "output_type": "stream",
     "text": [
      "Enter a number12\n",
      "Average\n"
     ]
    }
   ],
   "source": [
    "marks =int(input (\"Enter a number\"))\n",
    "if (marks >50):\n",
    "    print (\"very good\")\n",
    "else:\n",
    "    print (\"Average\")"
   ]
  },
  {
   "cell_type": "code",
   "execution_count": 29,
   "id": "2e09d05b",
   "metadata": {},
   "outputs": [
    {
     "name": "stdout",
     "output_type": "stream",
     "text": [
      "enter a number11\n",
      "Even\n"
     ]
    }
   ],
   "source": [
    "num=int (input (\"enter a number\"))\n",
    "if (num%2!=0):\n",
    "    print ('Even')\n",
    "else:\n",
    "    print ('odd')"
   ]
  },
  {
   "cell_type": "code",
   "execution_count": 30,
   "id": "a2a7ffed",
   "metadata": {},
   "outputs": [
    {
     "name": "stdout",
     "output_type": "stream",
     "text": [
      "10\n",
      "20\n"
     ]
    }
   ],
   "source": [
    "for i in [10,20,30,40,50]:\n",
    "    if (i ==30):\n",
    "        break\n",
    "    print (i)"
   ]
  },
  {
   "cell_type": "code",
   "execution_count": 39,
   "id": "4d471124",
   "metadata": {},
   "outputs": [
    {
     "name": "stdout",
     "output_type": "stream",
     "text": [
      "10\n",
      "12\n",
      "14\n",
      "16\n",
      "18\n",
      "20\n",
      "22\n",
      "24\n",
      "26\n",
      "28\n",
      "30\n"
     ]
    }
   ],
   "source": [
    "for i in range (10,31):\n",
    "    if (i%2!=0):\n",
    "        continue\n",
    "    print (i)"
   ]
  },
  {
   "cell_type": "code",
   "execution_count": 42,
   "id": "f4cf132a",
   "metadata": {},
   "outputs": [
    {
     "name": "stdout",
     "output_type": "stream",
     "text": [
      "Arnab rocks\n",
      "Arnab rocks\n",
      "Arnab rocks\n",
      "Arnab rocks\n",
      "Arnab rocks\n"
     ]
    }
   ],
   "source": [
    "i=0\n",
    "while i<5:\n",
    "    print ('Arnab rocks')\n",
    "    i=i+1"
   ]
  },
  {
   "cell_type": "code",
   "execution_count": 57,
   "id": "26f27580",
   "metadata": {},
   "outputs": [
    {
     "name": "stdout",
     "output_type": "stream",
     "text": [
      "Arnab\n",
      "python python python python Arnab\n",
      "python python python python Arnab\n",
      "python python python python Arnab\n",
      "python python python python Arnab\n",
      "python python python python "
     ]
    }
   ],
   "source": [
    "i=1\n",
    "while i<=5:\n",
    "    print ('Arnab')\n",
    "    i=i+1\n",
    "    j=1\n",
    "    while j<=4:\n",
    "        print ('python', end=' ')\n",
    "        j=j+1"
   ]
  },
  {
   "cell_type": "code",
   "execution_count": 63,
   "id": "45112d4c",
   "metadata": {},
   "outputs": [
    {
     "name": "stdout",
     "output_type": "stream",
     "text": [
      "Arnab Python Python Python Python \n",
      "Arnab Python Python Python Python \n",
      "Arnab Python Python Python Python \n",
      "Arnab Python Python Python Python \n",
      "Arnab Python Python Python Python \n"
     ]
    }
   ],
   "source": [
    "i=1\n",
    "while i<=5:\n",
    "    print ('Arnab', end=' ')\n",
    "    j=1\n",
    "    while j<=4:\n",
    "        print ('Python', end=' ')\n",
    "        j=j+1\n",
    "    i=i+1\n",
    "    print()\n"
   ]
  },
  {
   "cell_type": "code",
   "execution_count": 65,
   "id": "46d910a6",
   "metadata": {},
   "outputs": [
    {
     "name": "stdout",
     "output_type": "stream",
     "text": [
      "Arnab Rocks Rocks Rocks Rocks \n",
      "Arnab Rocks Rocks Rocks Rocks \n",
      "Arnab Rocks Rocks Rocks Rocks \n",
      "Arnab Rocks Rocks Rocks Rocks \n",
      "Arnab Rocks Rocks Rocks Rocks \n"
     ]
    }
   ],
   "source": [
    "i=1\n",
    "while i<=5:\n",
    "    print ('Arnab', end=' ')\n",
    "    j=1\n",
    "    while j<=4:\n",
    "        print ('Rocks', end=' ')\n",
    "        j=j+1\n",
    "    i=i+1\n",
    "    print ()"
   ]
  },
  {
   "cell_type": "code",
   "execution_count": null,
   "id": "e2d8783e",
   "metadata": {},
   "outputs": [],
   "source": []
  },
  {
   "cell_type": "code",
   "execution_count": null,
   "id": "51a75922",
   "metadata": {},
   "outputs": [],
   "source": []
  },
  {
   "cell_type": "code",
   "execution_count": null,
   "id": "ba417adf",
   "metadata": {},
   "outputs": [],
   "source": []
  }
 ],
 "metadata": {
  "kernelspec": {
   "display_name": "Python 3 (ipykernel)",
   "language": "python",
   "name": "python3"
  },
  "language_info": {
   "codemirror_mode": {
    "name": "ipython",
    "version": 3
   },
   "file_extension": ".py",
   "mimetype": "text/x-python",
   "name": "python",
   "nbconvert_exporter": "python",
   "pygments_lexer": "ipython3",
   "version": "3.10.9"
  }
 },
 "nbformat": 4,
 "nbformat_minor": 5
}
