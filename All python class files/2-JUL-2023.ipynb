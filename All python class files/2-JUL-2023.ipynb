{
 "cells": [
  {
   "cell_type": "code",
   "execution_count": 3,
   "id": "97de14cb",
   "metadata": {},
   "outputs": [],
   "source": [
    "class student:\n",
    "    \n",
    "    #constructor\n",
    "    \n",
    "    def __init__(self,sid,sname):\n",
    "        self.sid=sid\n",
    "        self.sname=sname\n",
    "        \n",
    "        \n",
    "    def display (self):\n",
    "        print (\"Sid:\",self.sid,\"Name:\",self.sname)\n",
    "    "
   ]
  },
  {
   "cell_type": "code",
   "execution_count": 4,
   "id": "679a7b58",
   "metadata": {},
   "outputs": [
    {
     "name": "stdout",
     "output_type": "stream",
     "text": [
      "Sid: 201 Name: Arnab\n"
     ]
    }
   ],
   "source": [
    "#object / instance\n",
    " \n",
    "stud1=student(201,\"Arnab\")\n",
    "stud1.display()\n"
   ]
  },
  {
   "cell_type": "code",
   "execution_count": 8,
   "id": "60ab1838",
   "metadata": {},
   "outputs": [],
   "source": [
    "class student:\n",
    "    def __init__ (self,sid,sname,sage):\n",
    "        self.sid=sid\n",
    "        self.sname=sname\n",
    "        self.sage=sage\n",
    "        \n",
    "    def display (self):\n",
    "        print (\"Sid:\",self.sid,\"Name:\",self.sname,\"Age:\",self.sage)"
   ]
  },
  {
   "cell_type": "code",
   "execution_count": 9,
   "id": "d14a5fb7",
   "metadata": {},
   "outputs": [
    {
     "name": "stdout",
     "output_type": "stream",
     "text": [
      "Sid: 1 Name: Arnab Age: 30\n"
     ]
    }
   ],
   "source": [
    "stud1=student(1,\"Arnab\",30)\n",
    "stud1.display()"
   ]
  },
  {
   "cell_type": "code",
   "execution_count": 11,
   "id": "ed212212",
   "metadata": {},
   "outputs": [
    {
     "data": {
      "text/plain": [
       "'Arnab'"
      ]
     },
     "execution_count": 11,
     "metadata": {},
     "output_type": "execute_result"
    }
   ],
   "source": [
    "stud1.sname"
   ]
  },
  {
   "cell_type": "code",
   "execution_count": 18,
   "id": "e3442261",
   "metadata": {},
   "outputs": [],
   "source": [
    "class Employee:\n",
    "    company=\"Torero Corporation\"\n",
    "    def __init__(self,empid,empname,empage):\n",
    "        self.empid=empid\n",
    "        self.empname=empname\n",
    "        self.empage=empage\n",
    "        \n",
    "    def display(self):\n",
    "        print(\"Empid:\",self.empid,\"Name:\",self.empname,\"Age:\",self.empage)\n",
    "    "
   ]
  },
  {
   "cell_type": "code",
   "execution_count": 14,
   "id": "7ea3236c",
   "metadata": {},
   "outputs": [],
   "source": [
    "Emp1=Employee(100,\"Sourav\",35)\n",
    "Emp2=Employee(101,\"Prantik\",32)\n",
    "Emp3=Employee(102,\"Sayan\",33)"
   ]
  },
  {
   "cell_type": "code",
   "execution_count": 15,
   "id": "cba07eec",
   "metadata": {},
   "outputs": [
    {
     "name": "stdout",
     "output_type": "stream",
     "text": [
      "Empid: 100 Name: Sourav Age: 35\n"
     ]
    }
   ],
   "source": [
    "Emp1.display()"
   ]
  },
  {
   "cell_type": "code",
   "execution_count": 16,
   "id": "040aabb6",
   "metadata": {},
   "outputs": [
    {
     "name": "stdout",
     "output_type": "stream",
     "text": [
      "Empid: 101 Name: Prantik Age: 32\n"
     ]
    }
   ],
   "source": [
    "Emp2.display()"
   ]
  },
  {
   "cell_type": "code",
   "execution_count": 17,
   "id": "2c4e7e6b",
   "metadata": {},
   "outputs": [
    {
     "name": "stdout",
     "output_type": "stream",
     "text": [
      "Empid: 102 Name: Sayan Age: 33\n"
     ]
    }
   ],
   "source": [
    "Emp3.display()"
   ]
  },
  {
   "cell_type": "code",
   "execution_count": 19,
   "id": "9467d8b3",
   "metadata": {},
   "outputs": [
    {
     "data": {
      "text/plain": [
       "'Torero Corporation'"
      ]
     },
     "execution_count": 19,
     "metadata": {},
     "output_type": "execute_result"
    }
   ],
   "source": [
    "Employee.company"
   ]
  },
  {
   "cell_type": "code",
   "execution_count": 39,
   "id": "e8387a2d",
   "metadata": {},
   "outputs": [],
   "source": [
    "class players:\n",
    "    def __init__(self,name,age,sports):\n",
    "        \n",
    "    \n",
    "        self.name=name\n",
    "        self.age=age\n",
    "        self.sports=sports\n",
    "    \n",
    "    def getdata(self,name,age,sports):\n",
    "        \n",
    "        self.name=name\n",
    "        self.age=age\n",
    "        self.sports=sports\n",
    "        \n",
    "    def displaydata(self):\n",
    "        print(\"Players details:\",self.name,self.age,self.sports)\n",
    "        \n",
    "def main():\n",
    "    p1=players (\"virat\",35,\"Cricket\")\n",
    "    p1.displaydata()\n",
    "    \n",
    "    p1.getdata(\"Richard\",45,\"Tennis\")\n",
    "    p1.displaydata()\n",
    "    \n",
    "    p2=players (\"Dhoni\",45,\"Cricket\")\n",
    "    p2.displaydata()\n",
    "    \n",
    "    \n",
    "    p2.getdata (\"vivian\",65,\"Cricket\")\n",
    "    p2.displaydata()"
   ]
  },
  {
   "cell_type": "code",
   "execution_count": 40,
   "id": "9f528e3d",
   "metadata": {},
   "outputs": [
    {
     "name": "stdout",
     "output_type": "stream",
     "text": [
      "Players details: virat 35 Cricket\n",
      "Players details: Richard 45 Tennis\n",
      "Players details: Dhoni 45 Cricket\n",
      "Players details: vivian 65 Cricket\n"
     ]
    }
   ],
   "source": [
    "if __name__==\"__main__\":\n",
    "    main()"
   ]
  },
  {
   "cell_type": "code",
   "execution_count": 45,
   "id": "faf04893",
   "metadata": {},
   "outputs": [],
   "source": [
    "import math"
   ]
  },
  {
   "cell_type": "code",
   "execution_count": 46,
   "id": "5e0e078b",
   "metadata": {},
   "outputs": [
    {
     "data": {
      "text/plain": [
       "3.141592653589793"
      ]
     },
     "execution_count": 46,
     "metadata": {},
     "output_type": "execute_result"
    }
   ],
   "source": [
    "math.pi"
   ]
  },
  {
   "cell_type": "code",
   "execution_count": 48,
   "id": "1f4982a7",
   "metadata": {},
   "outputs": [],
   "source": [
    "def testfun():\n",
    "    radius=int(input(\"Enter radius\"))\n",
    "    area=math.pi*(radius**2)\n",
    "    print (area)"
   ]
  },
  {
   "cell_type": "code",
   "execution_count": 49,
   "id": "5c1c69ca",
   "metadata": {},
   "outputs": [
    {
     "name": "stdout",
     "output_type": "stream",
     "text": [
      "Enter radius5\n",
      "78.53981633974483\n"
     ]
    }
   ],
   "source": [
    "testfun()"
   ]
  },
  {
   "cell_type": "code",
   "execution_count": 50,
   "id": "7e9380f3",
   "metadata": {},
   "outputs": [],
   "source": [
    "import datetime"
   ]
  },
  {
   "cell_type": "code",
   "execution_count": 53,
   "id": "f39dcf34",
   "metadata": {},
   "outputs": [
    {
     "data": {
      "text/plain": [
       "datetime.datetime(2023, 7, 7, 19, 50, 1, 994497)"
      ]
     },
     "execution_count": 53,
     "metadata": {},
     "output_type": "execute_result"
    }
   ],
   "source": [
    "dt=datetime.datetime.now()\n",
    "dt\n"
   ]
  },
  {
   "cell_type": "code",
   "execution_count": 2,
   "id": "fe95ab4e",
   "metadata": {},
   "outputs": [],
   "source": [
    "from datetime import date "
   ]
  },
  {
   "cell_type": "code",
   "execution_count": 3,
   "id": "868d678c",
   "metadata": {},
   "outputs": [
    {
     "data": {
      "text/plain": [
       "datetime.date(2023, 7, 7)"
      ]
     },
     "execution_count": 3,
     "metadata": {},
     "output_type": "execute_result"
    }
   ],
   "source": [
    "td=date.today()\n",
    "td"
   ]
  },
  {
   "cell_type": "code",
   "execution_count": 5,
   "id": "efb0b568",
   "metadata": {},
   "outputs": [
    {
     "name": "stdout",
     "output_type": "stream",
     "text": [
      "year= 2023\n",
      "Month= 7\n",
      "Date= 7\n"
     ]
    }
   ],
   "source": [
    "print (\"year=\",td.year)\n",
    "print (\"Month=\",td.month)\n",
    "print (\"Date=\",td.day)"
   ]
  }
 ],
 "metadata": {
  "kernelspec": {
   "display_name": "Python 3 (ipykernel)",
   "language": "python",
   "name": "python3"
  },
  "language_info": {
   "codemirror_mode": {
    "name": "ipython",
    "version": 3
   },
   "file_extension": ".py",
   "mimetype": "text/x-python",
   "name": "python",
   "nbconvert_exporter": "python",
   "pygments_lexer": "ipython3",
   "version": "3.10.9"
  }
 },
 "nbformat": 4,
 "nbformat_minor": 5
}
